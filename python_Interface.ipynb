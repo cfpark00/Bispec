{
 "cells": [
  {
   "cell_type": "code",
   "execution_count": 22,
   "metadata": {},
   "outputs": [],
   "source": [
    "import numpy as np\n",
    "import matplotlib.pyplot as plt\n",
    "import subprocess"
   ]
  },
  {
   "cell_type": "code",
   "execution_count": 48,
   "metadata": {},
   "outputs": [],
   "source": [
    "def make_gaussian_field(nside=64,realspace=True,doPk=True,doBk=True\n",
    "                        ,Pkfilename=\"\"\n",
    "                        ,filenamek=\"delta_k.dat\",filenamePk=\"delta_k.dat\",filenameBk=\"delta_k.dat\"\n",
    "                        ,filenamer=\"delta_k.dat\"\n",
    "                        ,quiet=False,n_thread=None,only_command=False):\n",
    "    \"\"\"\n",
    "    Function creating a Gaussian density field\n",
    "    \n",
    "    \"\"\"\n",
    "    arg=[\"./gaussianfield\",\"-nside\",str(nside)]\n",
    "    arg.append(\"-Pkfilename\")\n",
    "    arg.append(Pkfilename)\n",
    "    arg.append(\"-filenamek\")\n",
    "    arg.append(filenamek)\n",
    "    arg.append(\"-filenamer\")\n",
    "    arg.append(filenamer)\n",
    "    arg.append(\"-filenamePk\")\n",
    "    arg.append(filenamePk)\n",
    "    arg.append(\"-filenameBk\")\n",
    "    arg.append(filenameBk)\n",
    "    if realspace:\n",
    "        arg.append(\"-realspace\")\n",
    "    if quiet:\n",
    "        arg.append(\"-quiet\")\n",
    "    if not doPk:\n",
    "        arg.append(\"-doPk\")\n",
    "        arg.append(\"0\")\n",
    "    if not doBk:\n",
    "        arg.append(\"-doBk\")\n",
    "        arg.append(\"0\")\n",
    "    if n_thread is not None:\n",
    "        arg.append(\"-n_thread\")\n",
    "        arg.append(str(int(n_thread)))\n",
    "    if only_command:\n",
    "        print(\" \".join(arg))\n",
    "        return\n",
    "    print(subprocess.check_output(arg).decode(\"utf-8\"))\n",
    "\n",
    "def load():\n",
    "    f=np.load"
   ]
  },
  {
   "cell_type": "code",
   "execution_count": 50,
   "metadata": {},
   "outputs": [
    {
     "name": "stdout",
     "output_type": "stream",
     "text": [
      "Starting Program\n",
      "--------------\n",
      "\n",
      "nside=50\n",
      "filenamek=delta_k.dat\n",
      " Time: 0.000205994\n",
      "Start program at: 0.000205994 Time: 0.000178099\n",
      "Start filling at: 0.000384092 Time: 0.018162\n",
      "Start delta_k write at: 0.0185461 Time: 0.013778\n",
      "Start Pk: 0.0323241 Time: 0.0315499\n",
      "Start Closing: 0.063874 Time: 0.00047493\n",
      "\n",
      "Run successful. 0.0643489\n",
      "--------------\n",
      "\n",
      "Total Time: 0.0644519\n",
      "\n"
     ]
    }
   ],
   "source": [
    "make_gaussian_field(50,realspace=False,doBk=False)"
   ]
  },
  {
   "cell_type": "code",
   "execution_count": null,
   "metadata": {},
   "outputs": [],
   "source": []
  },
  {
   "cell_type": "code",
   "execution_count": null,
   "metadata": {},
   "outputs": [],
   "source": []
  },
  {
   "cell_type": "code",
   "execution_count": null,
   "metadata": {},
   "outputs": [],
   "source": []
  }
 ],
 "metadata": {
  "kernelspec": {
   "display_name": "Python 3",
   "language": "python",
   "name": "python3"
  },
  "language_info": {
   "codemirror_mode": {
    "name": "ipython",
    "version": 3
   },
   "file_extension": ".py",
   "mimetype": "text/x-python",
   "name": "python",
   "nbconvert_exporter": "python",
   "pygments_lexer": "ipython3",
   "version": "3.7.6"
  }
 },
 "nbformat": 4,
 "nbformat_minor": 4
}
